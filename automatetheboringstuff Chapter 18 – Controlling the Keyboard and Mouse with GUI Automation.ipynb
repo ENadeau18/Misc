{
 "cells": [
  {
   "cell_type": "code",
   "execution_count": 1,
   "metadata": {
    "collapsed": true
   },
   "outputs": [],
   "source": [
    "import pyautogui"
   ]
  },
  {
   "cell_type": "code",
   "execution_count": 2,
   "metadata": {
    "collapsed": true
   },
   "outputs": [],
   "source": [
    "pyautogui.PAUSE = 1\n",
    "pyautogui.FAILSAFE = True\n",
    "\n",
    "# Here we import pyautogui and set pyautogui.PAUSE to 1 for a one-second pause after each function call. \n",
    "# We set pyautogui.FAILSAFE to True to enable the fail-safe feature."
   ]
  },
  {
   "cell_type": "code",
   "execution_count": 3,
   "metadata": {},
   "outputs": [
    {
     "data": {
      "text/plain": [
       "(1920, 1080)"
      ]
     },
     "execution_count": 3,
     "metadata": {},
     "output_type": "execute_result"
    }
   ],
   "source": [
    "pyautogui.size()"
   ]
  },
  {
   "cell_type": "code",
   "execution_count": 56,
   "metadata": {
    "collapsed": true
   },
   "outputs": [],
   "source": [
    "duration = 0.1\n",
    "pyautogui.PAUSE = 0.3\n",
    "\n",
    "\n",
    "for i in range(10):\n",
    "    pyautogui.moveTo(100, 100, duration=duration)\n",
    "    pyautogui.moveTo(200, 100, duration=duration)    \n",
    "    pyautogui.moveTo(200, 200, duration=duration)    \n",
    "    pyautogui.moveTo(100, 200, duration=duration)    "
   ]
  },
  {
   "cell_type": "code",
   "execution_count": 58,
   "metadata": {
    "collapsed": true
   },
   "outputs": [],
   "source": [
    "duration = 0.1\n",
    "for i in range(2):\n",
    "    pyautogui.moveRel(100, 0, duration=duration)\n",
    "    pyautogui.moveRel(0, 100, duration=duration)  \n",
    "    pyautogui.moveRel(-100, 0, duration=duration)  \n",
    "    pyautogui.moveRel(0, -100, duration=duration)  "
   ]
  },
  {
   "cell_type": "code",
   "execution_count": 60,
   "metadata": {},
   "outputs": [
    {
     "data": {
      "text/plain": [
       "(1275, 753)"
      ]
     },
     "execution_count": 60,
     "metadata": {},
     "output_type": "execute_result"
    }
   ],
   "source": [
    "pyautogui.position()"
   ]
  },
  {
   "cell_type": "code",
   "execution_count": 4,
   "metadata": {},
   "outputs": [
    {
     "name": "stdout",
     "output_type": "stream",
     "text": [
      "X: 1065 Y:  674\n",
      "Done.\n"
     ]
    }
   ],
   "source": [
    "# Project: where is the mouse right now?\n",
    "import pyautogui\n",
    "from IPython.display import clear_output\n",
    "import time\n",
    "\n",
    "print('Press Ctrl-C to quit.')\n",
    "try:\n",
    "    while True:\n",
    "        x, y = pyautogui.position()\n",
    "        positionStr = 'X: ' + str(x).rjust(4) + ' Y: ' + str(y).rjust(4)\n",
    "        pixelColor = pyautogui.screenshot().getpixel((x, y))\n",
    "        positionStr += '\\nRGB: (' + str(pixelColor[0]).rjust(3) + \\\n",
    "                        ', ' + str(pixelColor[1]).rjust(3) + \\\n",
    "                        ', ' + str(pixelColor[2]).rjust(3) + ')'\n",
    "        print(positionStr, end='')\n",
    "        clear_output(wait=True)\n",
    "        time.sleep(0.1)\n",
    "except KeyboardInterrupt:\n",
    "    print(positionStr, end='')\n",
    "#     print(x, y)\n",
    "    print('\\nDone.')\n",
    "    \n",
    "    \n",
    "# Now it works well. This code only for the Jupyter Notebook. In terminal, use code below. \n",
    "# The code below runs weirdly here in the Jupyter Notebook, \\b doesn't seem to be working"
   ]
  },
  {
   "cell_type": "code",
   "execution_count": 89,
   "metadata": {
    "collapsed": true
   },
   "outputs": [],
   "source": [
    "pyautogui.click((1327, 114))"
   ]
  },
  {
   "cell_type": "raw",
   "metadata": {},
   "source": [
    "# Project: where is the mouse right now?\n",
    "\n",
    "print('Press Ctrl-C to quit.')\n",
    "try:\n",
    "    while True:\n",
    "        x, y = pyautogui.position()\n",
    "        positionStr = 'X: ' + str(x).rjust(4) + ' Y: ' + str(y).rjust(4)\n",
    "        print(positionStr, end='')\n",
    "        print('\\b' * len(positionStr), end='', flush=True)\n",
    "except KeyboardInterrupt:\n",
    "    print('\\nDone.')\n",
    "    \n",
    "    \n",
    "# Doesn't work well here. Only in ipython desktop"
   ]
  },
  {
   "cell_type": "code",
   "execution_count": 37,
   "metadata": {
    "collapsed": true
   },
   "outputs": [],
   "source": [
    "pyautogui.click(x, y)"
   ]
  },
  {
   "cell_type": "code",
   "execution_count": 66,
   "metadata": {},
   "outputs": [
    {
     "data": {
      "text/plain": [
       "(521, 237, 29, 26)"
      ]
     },
     "execution_count": 66,
     "metadata": {},
     "output_type": "execute_result"
    }
   ],
   "source": [
    "pyautogui.locateOnScreen('Historical Tradestation Data Downloader/images/Data Window.png')"
   ]
  },
  {
   "cell_type": "code",
   "execution_count": 69,
   "metadata": {},
   "outputs": [
    {
     "ename": "TypeError",
     "evalue": "'NoneType' object is not subscriptable",
     "output_type": "error",
     "traceback": [
      "\u001b[1;31m---------------------------------------------------------------------------\u001b[0m",
      "\u001b[1;31mTypeError\u001b[0m                                 Traceback (most recent call last)",
      "\u001b[1;32m<ipython-input-69-2a4af53fbc9a>\u001b[0m in \u001b[0;36m<module>\u001b[1;34m()\u001b[0m\n\u001b[0;32m      1\u001b[0m \u001b[0mpos\u001b[0m \u001b[1;33m=\u001b[0m \u001b[0mpyautogui\u001b[0m\u001b[1;33m.\u001b[0m\u001b[0mlocateOnScreen\u001b[0m\u001b[1;33m(\u001b[0m\u001b[1;34m'Historical Tradestation Data Downloader/images/Data Window.png'\u001b[0m\u001b[1;33m)\u001b[0m\u001b[1;33m\u001b[0m\u001b[0m\n\u001b[1;32m----> 2\u001b[1;33m \u001b[0mpyautogui\u001b[0m\u001b[1;33m.\u001b[0m\u001b[0mcenter\u001b[0m\u001b[1;33m(\u001b[0m\u001b[0mpos\u001b[0m\u001b[1;33m)\u001b[0m\u001b[1;33m\u001b[0m\u001b[0m\n\u001b[0m",
      "\u001b[1;32mC:\\Anaconda3\\lib\\site-packages\\pyscreeze\\__init__.py\u001b[0m in \u001b[0;36mcenter\u001b[1;34m(coords)\u001b[0m\n\u001b[0;32m    402\u001b[0m \u001b[1;33m\u001b[0m\u001b[0m\n\u001b[0;32m    403\u001b[0m \u001b[1;32mdef\u001b[0m \u001b[0mcenter\u001b[0m\u001b[1;33m(\u001b[0m\u001b[0mcoords\u001b[0m\u001b[1;33m)\u001b[0m\u001b[1;33m:\u001b[0m\u001b[1;33m\u001b[0m\u001b[0m\n\u001b[1;32m--> 404\u001b[1;33m     \u001b[1;32mreturn\u001b[0m \u001b[1;33m(\u001b[0m\u001b[0mcoords\u001b[0m\u001b[1;33m[\u001b[0m\u001b[1;36m0\u001b[0m\u001b[1;33m]\u001b[0m \u001b[1;33m+\u001b[0m \u001b[0mint\u001b[0m\u001b[1;33m(\u001b[0m\u001b[0mcoords\u001b[0m\u001b[1;33m[\u001b[0m\u001b[1;36m2\u001b[0m\u001b[1;33m]\u001b[0m \u001b[1;33m/\u001b[0m \u001b[1;36m2\u001b[0m\u001b[1;33m)\u001b[0m\u001b[1;33m,\u001b[0m \u001b[0mcoords\u001b[0m\u001b[1;33m[\u001b[0m\u001b[1;36m1\u001b[0m\u001b[1;33m]\u001b[0m \u001b[1;33m+\u001b[0m \u001b[0mint\u001b[0m\u001b[1;33m(\u001b[0m\u001b[0mcoords\u001b[0m\u001b[1;33m[\u001b[0m\u001b[1;36m3\u001b[0m\u001b[1;33m]\u001b[0m \u001b[1;33m/\u001b[0m \u001b[1;36m2\u001b[0m\u001b[1;33m)\u001b[0m\u001b[1;33m)\u001b[0m\u001b[1;33m\u001b[0m\u001b[0m\n\u001b[0m\u001b[0;32m    405\u001b[0m \u001b[1;33m\u001b[0m\u001b[0m\n\u001b[0;32m    406\u001b[0m \u001b[1;33m\u001b[0m\u001b[0m\n",
      "\u001b[1;31mTypeError\u001b[0m: 'NoneType' object is not subscriptable"
     ]
    }
   ],
   "source": [
    "pos = pyautogui.locateOnScreen('Historical Tradestation Data Downloader/images/Data Window.png')\n",
    "pyautogui.center(pos)"
   ]
  },
  {
   "cell_type": "code",
   "execution_count": 18,
   "metadata": {
    "collapsed": true
   },
   "outputs": [],
   "source": [
    "def locate_data_window_button():\n",
    "    position = pyautogui.locateOnScreen('Historical Tradestation Data Downloader/images/Data Window.png')\n",
    "    if not position:\n",
    "        print('Data Window not found')\n",
    "        return None\n",
    "    else:\n",
    "        return pyautogui.center(position)\n",
    "    \n",
    "def locate_symbol_box():\n",
    "    position = pyautogui.locateOnScreen('Historical Tradestation Data Downloader/images/Symbol box.png')\n",
    "    if not position:\n",
    "        print('Symbol box not found')\n",
    "        return None\n",
    "    else:\n",
    "        return pyautogui.center(position)\n",
    "    \n",
    "def locate_save_data_button():\n",
    "    position = pyautogui.locateOnScreen('Historical Tradestation Data Downloader/images/save_data.png')\n",
    "    if not position:\n",
    "        print('Save button not found')\n",
    "        return None\n",
    "    else:\n",
    "        print(position)\n",
    "        return pyautogui.center(position)\n",
    "    \n",
    "def locate_PD():\n",
    "    position = pyautogui.locateOnScreen('Historical Tradestation Data Downloader/images/PD.png')\n",
    "    if not position:\n",
    "        return False\n",
    "    else:\n",
    "        return True\n",
    "\n",
    "def locate_Waiting():\n",
    "    position = pyautogui.locateOnScreen('Historical Tradestation Data Downloader/images/Waiting.png')\n",
    "    if not position:\n",
    "        return False\n",
    "    else:\n",
    "        return True\n",
    "    \n",
    "def long_click(position):\n",
    "    pyautogui.moveTo(position)\n",
    "    pyautogui.mouseDown(position)\n",
    "    print('mouse down')\n",
    "    print(position)\n",
    "    time.sleep(0.2)\n",
    "    pyautogui.mouseUp()\n",
    "    print('mouse up')"
   ]
  },
  {
   "cell_type": "code",
   "execution_count": 21,
   "metadata": {},
   "outputs": [
    {
     "name": "stdout",
     "output_type": "stream",
     "text": [
      "mouse down\n",
      "(402, 79)\n",
      "mouse up\n"
     ]
    }
   ],
   "source": [
    "time.sleep(2)\n",
    "pos = locate_symbol_box()\n",
    "long_click(pos)\n",
    "pyautogui.typewrite('GOOGL')"
   ]
  },
  {
   "cell_type": "code",
   "execution_count": 20,
   "metadata": {
    "scrolled": false
   },
   "outputs": [
    {
     "name": "stdout",
     "output_type": "stream",
     "text": [
      "(36, 559, 26, 64)\n",
      "mouse down\n",
      "(49, 591)\n",
      "mouse up\n"
     ]
    }
   ],
   "source": [
    "time.sleep(2)\n",
    "pos = locate_save_data_button()\n",
    "long_click(pos)\n",
    "# long_click(pos)"
   ]
  },
  {
   "cell_type": "code",
   "execution_count": 79,
   "metadata": {},
   "outputs": [
    {
     "data": {
      "text/plain": [
       "True"
      ]
     },
     "execution_count": 79,
     "metadata": {},
     "output_type": "execute_result"
    }
   ],
   "source": [
    "locate_Waiting()"
   ]
  },
  {
   "cell_type": "code",
   "execution_count": 115,
   "metadata": {
    "scrolled": true
   },
   "outputs": [
    {
     "data": {
      "text/plain": [
       "(301, 284)"
      ]
     },
     "execution_count": 115,
     "metadata": {},
     "output_type": "execute_result"
    }
   ],
   "source": [
    "time.sleep(2)\n",
    "save_data_pos = locate_save_data_button()\n",
    "time.sleep(1)\n",
    "pyautogui.moveTo(save_data_pos)\n",
    "time.sleep(1)\n",
    "pyautogui.click(save_data_pos)\n",
    "save_data_pos"
   ]
  },
  {
   "cell_type": "code",
   "execution_count": 116,
   "metadata": {
    "collapsed": true
   },
   "outputs": [],
   "source": [
    "pyautogui.moveTo(save_data_pos)"
   ]
  },
  {
   "cell_type": "code",
   "execution_count": 106,
   "metadata": {
    "collapsed": true
   },
   "outputs": [],
   "source": [
    "pyautogui.click(save_data_pos)"
   ]
  },
  {
   "cell_type": "code",
   "execution_count": 110,
   "metadata": {
    "collapsed": true
   },
   "outputs": [],
   "source": [
    "pyautogui.click((34, 85))\n",
    "pyautogui.click((34, 885))"
   ]
  },
  {
   "cell_type": "code",
   "execution_count": 103,
   "metadata": {
    "collapsed": true
   },
   "outputs": [],
   "source": [
    "pyautogui.doubleClick(save_data_pos, interval=0.25)"
   ]
  },
  {
   "cell_type": "code",
   "execution_count": 105,
   "metadata": {
    "collapsed": true
   },
   "outputs": [],
   "source": [
    "pyautogui.click((1335, 1066))\n",
    "# time.sleep(0.5)\n",
    "pyautogui.moveTo(save_data_pos)"
   ]
  }
 ],
 "metadata": {
  "anaconda-cloud": {},
  "kernelspec": {
   "display_name": "Python [default]",
   "language": "python",
   "name": "python3"
  },
  "language_info": {
   "codemirror_mode": {
    "name": "ipython",
    "version": 3
   },
   "file_extension": ".py",
   "mimetype": "text/x-python",
   "name": "python",
   "nbconvert_exporter": "python",
   "pygments_lexer": "ipython3",
   "version": "3.4.5"
  }
 },
 "nbformat": 4,
 "nbformat_minor": 2
}

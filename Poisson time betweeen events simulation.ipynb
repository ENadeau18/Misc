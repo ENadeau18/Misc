{
 "cells": [
  {
   "cell_type": "code",
   "execution_count": 90,
   "metadata": {
    "collapsed": true
   },
   "outputs": [],
   "source": [
    "import numpy as np\n",
    "import matplotlib.pyplot as plt\n",
    "import pandas as pd\n",
    "\n",
    "%matplotlib inline"
   ]
  },
  {
   "cell_type": "code",
   "execution_count": 199,
   "metadata": {},
   "outputs": [],
   "source": [
    "dates_seconds = pd.date_range(start='20160101', end='20170101', freq='S')"
   ]
  },
  {
   "cell_type": "code",
   "execution_count": 200,
   "metadata": {},
   "outputs": [
    {
     "data": {
      "text/html": [
       "<div>\n",
       "<table border=\"1\" class=\"dataframe\">\n",
       "  <thead>\n",
       "    <tr style=\"text-align: right;\">\n",
       "      <th></th>\n",
       "    </tr>\n",
       "  </thead>\n",
       "  <tbody>\n",
       "    <tr>\n",
       "      <th>2016-01-01 00:00:00</th>\n",
       "    </tr>\n",
       "    <tr>\n",
       "      <th>2016-01-01 00:00:01</th>\n",
       "    </tr>\n",
       "    <tr>\n",
       "      <th>2016-01-01 00:00:02</th>\n",
       "    </tr>\n",
       "    <tr>\n",
       "      <th>2016-01-01 00:00:03</th>\n",
       "    </tr>\n",
       "    <tr>\n",
       "      <th>2016-01-01 00:00:04</th>\n",
       "    </tr>\n",
       "  </tbody>\n",
       "</table>\n",
       "</div>"
      ],
      "text/plain": [
       "Empty DataFrame\n",
       "Columns: []\n",
       "Index: [2016-01-01 00:00:00, 2016-01-01 00:00:01, 2016-01-01 00:00:02, 2016-01-01 00:00:03, 2016-01-01 00:00:04]"
      ]
     },
     "execution_count": 200,
     "metadata": {},
     "output_type": "execute_result"
    }
   ],
   "source": [
    "blocks = pd.DataFrame(index=dates_seconds)\n",
    "blocks.head()"
   ]
  },
  {
   "cell_type": "code",
   "execution_count": 201,
   "metadata": {},
   "outputs": [
    {
     "data": {
      "text/html": [
       "<div>\n",
       "<table border=\"1\" class=\"dataframe\">\n",
       "  <thead>\n",
       "    <tr style=\"text-align: right;\">\n",
       "      <th></th>\n",
       "      <th>Blocks found</th>\n",
       "    </tr>\n",
       "  </thead>\n",
       "  <tbody>\n",
       "    <tr>\n",
       "      <th>2016-01-01 00:00:00</th>\n",
       "      <td>0</td>\n",
       "    </tr>\n",
       "    <tr>\n",
       "      <th>2016-01-01 00:00:01</th>\n",
       "      <td>0</td>\n",
       "    </tr>\n",
       "    <tr>\n",
       "      <th>2016-01-01 00:00:02</th>\n",
       "      <td>0</td>\n",
       "    </tr>\n",
       "    <tr>\n",
       "      <th>2016-01-01 00:00:03</th>\n",
       "      <td>0</td>\n",
       "    </tr>\n",
       "    <tr>\n",
       "      <th>2016-01-01 00:00:04</th>\n",
       "      <td>0</td>\n",
       "    </tr>\n",
       "  </tbody>\n",
       "</table>\n",
       "</div>"
      ],
      "text/plain": [
       "                     Blocks found\n",
       "2016-01-01 00:00:00             0\n",
       "2016-01-01 00:00:01             0\n",
       "2016-01-01 00:00:02             0\n",
       "2016-01-01 00:00:03             0\n",
       "2016-01-01 00:00:04             0"
      ]
     },
     "execution_count": 201,
     "metadata": {},
     "output_type": "execute_result"
    }
   ],
   "source": [
    "blocks['Blocks found'] = np.random.poisson(lam=1/600, size=len(blocks))\n",
    "blocks.head()"
   ]
  },
  {
   "cell_type": "code",
   "execution_count": 202,
   "metadata": {},
   "outputs": [],
   "source": [
    "set_blocks = set(blocks['Blocks found'])"
   ]
  },
  {
   "cell_type": "code",
   "execution_count": 203,
   "metadata": {},
   "outputs": [
    {
     "data": {
      "text/plain": [
       "{0, 1, 2}"
      ]
     },
     "execution_count": 203,
     "metadata": {},
     "output_type": "execute_result"
    }
   ],
   "source": [
    "set_blocks"
   ]
  },
  {
   "cell_type": "code",
   "execution_count": 204,
   "metadata": {},
   "outputs": [
    {
     "data": {
      "image/png": "[encoded data removed]",
      "text/plain": [
       "<matplotlib.figure.Figure at 0x2cbd75c0>"
      ]
     },
     "metadata": {},
     "output_type": "display_data"
    }
   ],
   "source": [
    "plt.hist(blocks['Blocks found'], log=True);"
   ]
  },
  {
   "cell_type": "code",
   "execution_count": 205,
   "metadata": {},
   "outputs": [
    {
     "name": "stdout",
     "output_type": "stream",
     "text": [
      "53030\n",
      "\n",
      "                     Blocks found\n",
      "2016-01-01 00:12:39             1\n",
      "2016-01-01 00:18:09             1\n",
      "2016-01-01 00:56:47             1\n",
      "2016-01-01 00:59:49             1\n",
      "2016-01-01 01:36:03             1\n"
     ]
    }
   ],
   "source": [
    "blocks = blocks[blocks['Blocks found'] != 0]\n",
    "print(len(blocks))\n",
    "print()\n",
    "print(blocks.head())"
   ]
  },
  {
   "cell_type": "code",
   "execution_count": 206,
   "metadata": {},
   "outputs": [
    {
     "data": {
      "text/html": [
       "<div>\n",
       "<table border=\"1\" class=\"dataframe\">\n",
       "  <thead>\n",
       "    <tr style=\"text-align: right;\">\n",
       "      <th></th>\n",
       "      <th>Blocks found</th>\n",
       "    </tr>\n",
       "  </thead>\n",
       "  <tbody>\n",
       "    <tr>\n",
       "      <th>2016-01-01 00:12:39</th>\n",
       "      <td>1</td>\n",
       "    </tr>\n",
       "    <tr>\n",
       "      <th>2016-01-01 00:18:09</th>\n",
       "      <td>1</td>\n",
       "    </tr>\n",
       "    <tr>\n",
       "      <th>2016-01-01 00:56:47</th>\n",
       "      <td>1</td>\n",
       "    </tr>\n",
       "    <tr>\n",
       "      <th>2016-01-01 00:59:49</th>\n",
       "      <td>1</td>\n",
       "    </tr>\n",
       "    <tr>\n",
       "      <th>2016-01-01 01:36:03</th>\n",
       "      <td>1</td>\n",
       "    </tr>\n",
       "  </tbody>\n",
       "</table>\n",
       "</div>"
      ],
      "text/plain": [
       "                     Blocks found\n",
       "2016-01-01 00:12:39             1\n",
       "2016-01-01 00:18:09             1\n",
       "2016-01-01 00:56:47             1\n",
       "2016-01-01 00:59:49             1\n",
       "2016-01-01 01:36:03             1"
      ]
     },
     "execution_count": 206,
     "metadata": {},
     "output_type": "execute_result"
    }
   ],
   "source": [
    "blocks.head()"
   ]
  },
  {
   "cell_type": "code",
   "execution_count": 207,
   "metadata": {
    "scrolled": true
   },
   "outputs": [],
   "source": [
    "blocks['Time'] = blocks.index\n",
    "\n",
    "blocks['dTime'] = ((blocks['Time'] - blocks['Time'].shift())).\\\n",
    "                    fillna(blocks['Time'][0] - pd.to_datetime('20160101'))"
   ]
  },
  {
   "cell_type": "code",
   "execution_count": 208,
   "metadata": {
    "scrolled": true
   },
   "outputs": [
    {
     "data": {
      "text/html": [
       "<div>\n",
       "<table border=\"1\" class=\"dataframe\">\n",
       "  <thead>\n",
       "    <tr style=\"text-align: right;\">\n",
       "      <th></th>\n",
       "      <th>Blocks found</th>\n",
       "      <th>Time</th>\n",
       "      <th>dTime</th>\n",
       "    </tr>\n",
       "  </thead>\n",
       "  <tbody>\n",
       "    <tr>\n",
       "      <th>2016-01-01 00:12:39</th>\n",
       "      <td>1</td>\n",
       "      <td>2016-01-01 00:12:39</td>\n",
       "      <td>00:12:39</td>\n",
       "    </tr>\n",
       "    <tr>\n",
       "      <th>2016-01-01 00:18:09</th>\n",
       "      <td>1</td>\n",
       "      <td>2016-01-01 00:18:09</td>\n",
       "      <td>00:05:30</td>\n",
       "    </tr>\n",
       "    <tr>\n",
       "      <th>2016-01-01 00:56:47</th>\n",
       "      <td>1</td>\n",
       "      <td>2016-01-01 00:56:47</td>\n",
       "      <td>00:38:38</td>\n",
       "    </tr>\n",
       "    <tr>\n",
       "      <th>2016-01-01 00:59:49</th>\n",
       "      <td>1</td>\n",
       "      <td>2016-01-01 00:59:49</td>\n",
       "      <td>00:03:02</td>\n",
       "    </tr>\n",
       "    <tr>\n",
       "      <th>2016-01-01 01:36:03</th>\n",
       "      <td>1</td>\n",
       "      <td>2016-01-01 01:36:03</td>\n",
       "      <td>00:36:14</td>\n",
       "    </tr>\n",
       "  </tbody>\n",
       "</table>\n",
       "</div>"
      ],
      "text/plain": [
       "                     Blocks found                Time    dTime\n",
       "2016-01-01 00:12:39             1 2016-01-01 00:12:39 00:12:39\n",
       "2016-01-01 00:18:09             1 2016-01-01 00:18:09 00:05:30\n",
       "2016-01-01 00:56:47             1 2016-01-01 00:56:47 00:38:38\n",
       "2016-01-01 00:59:49             1 2016-01-01 00:59:49 00:03:02\n",
       "2016-01-01 01:36:03             1 2016-01-01 01:36:03 00:36:14"
      ]
     },
     "execution_count": 208,
     "metadata": {},
     "output_type": "execute_result"
    }
   ],
   "source": [
    "blocks.head()"
   ]
  },
  {
   "cell_type": "code",
   "execution_count": 209,
   "metadata": {},
   "outputs": [
    {
     "data": {
      "text/html": [
       "<div>\n",
       "<table border=\"1\" class=\"dataframe\">\n",
       "  <thead>\n",
       "    <tr style=\"text-align: right;\">\n",
       "      <th></th>\n",
       "      <th>Blocks found</th>\n",
       "      <th>Time</th>\n",
       "      <th>dTime</th>\n",
       "      <th>Seconds between blocks</th>\n",
       "    </tr>\n",
       "  </thead>\n",
       "  <tbody>\n",
       "    <tr>\n",
       "      <th>2016-01-01 00:12:39</th>\n",
       "      <td>1</td>\n",
       "      <td>2016-01-01 00:12:39</td>\n",
       "      <td>00:12:39</td>\n",
       "      <td>759</td>\n",
       "    </tr>\n",
       "    <tr>\n",
       "      <th>2016-01-01 00:18:09</th>\n",
       "      <td>1</td>\n",
       "      <td>2016-01-01 00:18:09</td>\n",
       "      <td>00:05:30</td>\n",
       "      <td>330</td>\n",
       "    </tr>\n",
       "    <tr>\n",
       "      <th>2016-01-01 00:56:47</th>\n",
       "      <td>1</td>\n",
       "      <td>2016-01-01 00:56:47</td>\n",
       "      <td>00:38:38</td>\n",
       "      <td>2318</td>\n",
       "    </tr>\n",
       "    <tr>\n",
       "      <th>2016-01-01 00:59:49</th>\n",
       "      <td>1</td>\n",
       "      <td>2016-01-01 00:59:49</td>\n",
       "      <td>00:03:02</td>\n",
       "      <td>182</td>\n",
       "    </tr>\n",
       "    <tr>\n",
       "      <th>2016-01-01 01:36:03</th>\n",
       "      <td>1</td>\n",
       "      <td>2016-01-01 01:36:03</td>\n",
       "      <td>00:36:14</td>\n",
       "      <td>2174</td>\n",
       "    </tr>\n",
       "  </tbody>\n",
       "</table>\n",
       "</div>"
      ],
      "text/plain": [
       "                     Blocks found                Time    dTime  \\\n",
       "2016-01-01 00:12:39             1 2016-01-01 00:12:39 00:12:39   \n",
       "2016-01-01 00:18:09             1 2016-01-01 00:18:09 00:05:30   \n",
       "2016-01-01 00:56:47             1 2016-01-01 00:56:47 00:38:38   \n",
       "2016-01-01 00:59:49             1 2016-01-01 00:59:49 00:03:02   \n",
       "2016-01-01 01:36:03             1 2016-01-01 01:36:03 00:36:14   \n",
       "\n",
       "                     Seconds between blocks  \n",
       "2016-01-01 00:12:39                     759  \n",
       "2016-01-01 00:18:09                     330  \n",
       "2016-01-01 00:56:47                    2318  \n",
       "2016-01-01 00:59:49                     182  \n",
       "2016-01-01 01:36:03                    2174  "
      ]
     },
     "execution_count": 209,
     "metadata": {},
     "output_type": "execute_result"
    }
   ],
   "source": [
    "blocks['Seconds between blocks'] = (blocks['dTime'] / np.timedelta64(1, 's')).astype(int)\n",
    "blocks.head()"
   ]
  },
  {
   "cell_type": "code",
   "execution_count": 210,
   "metadata": {},
   "outputs": [
    {
     "data": {
      "text/html": [
       "<div>\n",
       "<table border=\"1\" class=\"dataframe\">\n",
       "  <thead>\n",
       "    <tr style=\"text-align: right;\">\n",
       "      <th></th>\n",
       "      <th>Blocks found</th>\n",
       "      <th>Time</th>\n",
       "      <th>dTime</th>\n",
       "      <th>Seconds between blocks</th>\n",
       "      <th>Minutes between blocks</th>\n",
       "    </tr>\n",
       "  </thead>\n",
       "  <tbody>\n",
       "    <tr>\n",
       "      <th>2016-01-01 00:12:39</th>\n",
       "      <td>1</td>\n",
       "      <td>2016-01-01 00:12:39</td>\n",
       "      <td>00:12:39</td>\n",
       "      <td>759</td>\n",
       "      <td>12.650000</td>\n",
       "    </tr>\n",
       "    <tr>\n",
       "      <th>2016-01-01 00:18:09</th>\n",
       "      <td>1</td>\n",
       "      <td>2016-01-01 00:18:09</td>\n",
       "      <td>00:05:30</td>\n",
       "      <td>330</td>\n",
       "      <td>5.500000</td>\n",
       "    </tr>\n",
       "    <tr>\n",
       "      <th>2016-01-01 00:56:47</th>\n",
       "      <td>1</td>\n",
       "      <td>2016-01-01 00:56:47</td>\n",
       "      <td>00:38:38</td>\n",
       "      <td>2318</td>\n",
       "      <td>38.633333</td>\n",
       "    </tr>\n",
       "    <tr>\n",
       "      <th>2016-01-01 00:59:49</th>\n",
       "      <td>1</td>\n",
       "      <td>2016-01-01 00:59:49</td>\n",
       "      <td>00:03:02</td>\n",
       "      <td>182</td>\n",
       "      <td>3.033333</td>\n",
       "    </tr>\n",
       "    <tr>\n",
       "      <th>2016-01-01 01:36:03</th>\n",
       "      <td>1</td>\n",
       "      <td>2016-01-01 01:36:03</td>\n",
       "      <td>00:36:14</td>\n",
       "      <td>2174</td>\n",
       "      <td>36.233333</td>\n",
       "    </tr>\n",
       "  </tbody>\n",
       "</table>\n",
       "</div>"
      ],
      "text/plain": [
       "                     Blocks found                Time    dTime  \\\n",
       "2016-01-01 00:12:39             1 2016-01-01 00:12:39 00:12:39   \n",
       "2016-01-01 00:18:09             1 2016-01-01 00:18:09 00:05:30   \n",
       "2016-01-01 00:56:47             1 2016-01-01 00:56:47 00:38:38   \n",
       "2016-01-01 00:59:49             1 2016-01-01 00:59:49 00:03:02   \n",
       "2016-01-01 01:36:03             1 2016-01-01 01:36:03 00:36:14   \n",
       "\n",
       "                     Seconds between blocks  Minutes between blocks  \n",
       "2016-01-01 00:12:39                     759               12.650000  \n",
       "2016-01-01 00:18:09                     330                5.500000  \n",
       "2016-01-01 00:56:47                    2318               38.633333  \n",
       "2016-01-01 00:59:49                     182                3.033333  \n",
       "2016-01-01 01:36:03                    2174               36.233333  "
      ]
     },
     "execution_count": 210,
     "metadata": {},
     "output_type": "execute_result"
    }
   ],
   "source": [
    "blocks['Minutes between blocks'] = blocks['Seconds between blocks'] / 60\n",
    "blocks.head()"
   ]
  },
  {
   "cell_type": "code",
   "execution_count": 217,
   "metadata": {},
   "outputs": [
    {
     "data": {
      "image/png": "[encoded data removed]",
      "text/plain": [
       "<matplotlib.figure.Figure at 0x2d634a90>"
      ]
     },
     "metadata": {},
     "output_type": "display_data"
    }
   ],
   "source": [
    "plt.figure(figsize=(12, 6))\n",
    "plt.hist(blocks['Minutes between blocks'], bins=100, normed=True)\n",
    "plt.title('Time between blocks')\n",
    "plt.xlabel('Minutes')\n",
    "plt.ylabel('Relative frequency')\n",
    "plt.grid()\n",
    "plt.show()"
   ]
  },
  {
   "cell_type": "code",
   "execution_count": null,
   "metadata": {
    "collapsed": true
   },
   "outputs": [],
   "source": []
  }
 ],
 "metadata": {
  "kernelspec": {
   "display_name": "Python [default]",
   "language": "python",
   "name": "python3"
  },
  "language_info": {
   "codemirror_mode": {
    "name": "ipython",
    "version": 3
   },
   "file_extension": ".py",
   "mimetype": "text/x-python",
   "name": "python",
   "nbconvert_exporter": "python",
   "pygments_lexer": "ipython3",
   "version": "3.4.5"
  }
 },
 "nbformat": 4,
 "nbformat_minor": 2
}
